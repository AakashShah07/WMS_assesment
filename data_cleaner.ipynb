{
 "cells": [
  {
   "cell_type": "code",
   "execution_count": 1,
   "id": "90aad16e",
   "metadata": {},
   "outputs": [],
   "source": [
    "import pandas as pd"
   ]
  },
  {
   "cell_type": "code",
   "execution_count": 13,
   "id": "0a22c9fd",
   "metadata": {},
   "outputs": [],
   "source": [
    "dataset = pd.read_csv(\"data/wms/Current_Inventory .csv\")\n",
    "# dataset.columns"
   ]
  },
  {
   "cell_type": "code",
   "execution_count": 14,
   "id": "1dd6b710",
   "metadata": {},
   "outputs": [],
   "source": [
    "dataset2 = pd.read_csv(\"data/wms/Combos_skus.csv\")\n",
    "# dataset2.columns"
   ]
  },
  {
   "cell_type": "code",
   "execution_count": 17,
   "id": "a065b414",
   "metadata": {},
   "outputs": [
    {
     "data": {
      "text/plain": [
       "Index(['sku', 'msku', 'panels', 'Status', 'Status.1', 'Unnamed: 5', 'image',\n",
       "       'Unnamed: 7', 'Unnamed: 8', 'Unnamed: 9', 'Unnamed: 10', 'Unnamed: 11'],\n",
       "      dtype='object')"
      ]
     },
     "execution_count": 17,
     "metadata": {},
     "output_type": "execute_result"
    }
   ],
   "source": [
    "dataset3 = pd.read_csv(\"data/wms/Msku_With_Skus.csv\")\n",
    "mapping_clean = dataset3[['sku', 'msku']].dropna()\n",
    "\n",
    "dataset3.columns"
   ]
  },
  {
   "cell_type": "code",
   "execution_count": 16,
   "id": "a79e35b8",
   "metadata": {},
   "outputs": [
    {
     "data": {
      "text/plain": [
       "Index(['Reason for Credit Entry', 'Sub Order No', 'Order Date',\n",
       "       'Customer State', 'Product Name', 'SKU', 'Size', 'Quantity',\n",
       "       'Supplier Listed Price (Incl. GST + Commission)',\n",
       "       'Supplier Discounted Price (Incl GST and Commision)', 'Packet Id'],\n",
       "      dtype='object')"
      ]
     },
     "execution_count": 16,
     "metadata": {},
     "output_type": "execute_result"
    }
   ],
   "source": [
    "messho_sales = pd.read_csv(\"data/messho_sales.csv\")\n",
    "messho_sales.columns"
   ]
  },
  {
   "cell_type": "code",
   "execution_count": null,
   "id": "bd6a3d76",
   "metadata": {},
   "outputs": [],
   "source": [
    "messho_sales = messho_sales.merge(mapping_clean, left_on='SKU', right_on='sku', how='left')\n",
    "# Data Cleaning"
   ]
  },
  {
   "cell_type": "code",
   "execution_count": null,
   "id": "9cb76760",
   "metadata": {},
   "outputs": [],
   "source": []
  },
  {
   "cell_type": "code",
   "execution_count": 22,
   "id": "92d69c5c",
   "metadata": {},
   "outputs": [],
   "source": [
    "if 'msku' not in messho_sales.columns:\n",
    "    messho_sales['msku'] = 'UNKNOWN'\n",
    "else:\n",
    "    messho_sales['msku'] = messho_sales['msku'].fillna('UNKNOWN')"
   ]
  },
  {
   "cell_type": "code",
   "execution_count": 23,
   "id": "cbe92569",
   "metadata": {},
   "outputs": [],
   "source": [
    "# messho_sales['msku'] = messho_sales['msku'].fillna('UNKNOWN')\n",
    "messho_sales.to_csv('cleaned_messho_sales.csv', index=False)"
   ]
  },
  {
   "cell_type": "code",
   "execution_count": 28,
   "id": "0125e382",
   "metadata": {},
   "outputs": [
    {
     "data": {
      "text/plain": [
       "Index(['Reason for Credit Entry', 'Sub Order No', 'Order Date',\n",
       "       'Customer State', 'Product Name', 'SKU', 'Size', 'Quantity',\n",
       "       'Supplier Listed Price (Incl. GST + Commission)',\n",
       "       'Supplier Discounted Price (Incl GST and Commision)', 'Packet Id',\n",
       "       'sku_x', 'msku_x', 'sku_y', 'msku_y', 'msku'],\n",
       "      dtype='object')"
      ]
     },
     "execution_count": 28,
     "metadata": {},
     "output_type": "execute_result"
    }
   ],
   "source": [
    "data_cleaned = pd.read_csv('cleaned_messho_sales.csv')\n",
    "data_cleaned.columns"
   ]
  },
  {
   "cell_type": "code",
   "execution_count": 29,
   "id": "aa354dca",
   "metadata": {},
   "outputs": [],
   "source": [
    "final_cols = [\n",
    "    'Reason for Credit Entry', 'Sub Order No', 'Order Date', 'Customer State',\n",
    "    'Product Name', 'SKU', 'Size', 'Quantity',\n",
    "    'Supplier Listed Price (Incl. GST + Commission)',\n",
    "    'Supplier Discounted Price (Incl GST and Commision)',\n",
    "    'Packet Id', 'msku'\n",
    "]\n",
    "\n",
    "data_final = data_cleaned[final_cols]\n",
    "data_final.to_csv('final_cleaned_messho_sales.csv', index=False)\n"
   ]
  },
  {
   "cell_type": "code",
   "execution_count": null,
   "id": "dcc065b0",
   "metadata": {},
   "outputs": [
    {
     "data": {
      "application/vnd.microsoft.datawrangler.viewer.v0+json": {
       "columns": [
        {
         "name": "index",
         "rawType": "int64",
         "type": "integer"
        },
        {
         "name": "Reason for Credit Entry",
         "rawType": "object",
         "type": "string"
        },
        {
         "name": "Sub Order No",
         "rawType": "object",
         "type": "string"
        },
        {
         "name": "Order Date",
         "rawType": "object",
         "type": "string"
        },
        {
         "name": "Customer State",
         "rawType": "object",
         "type": "string"
        },
        {
         "name": "Product Name",
         "rawType": "object",
         "type": "string"
        },
        {
         "name": "SKU",
         "rawType": "object",
         "type": "string"
        },
        {
         "name": "Size",
         "rawType": "object",
         "type": "string"
        },
        {
         "name": "Quantity",
         "rawType": "int64",
         "type": "integer"
        },
        {
         "name": "Supplier Listed Price (Incl. GST + Commission)",
         "rawType": "float64",
         "type": "float"
        },
        {
         "name": "Supplier Discounted Price (Incl GST and Commision)",
         "rawType": "float64",
         "type": "float"
        },
        {
         "name": "Packet Id",
         "rawType": "float64",
         "type": "float"
        },
        {
         "name": "sku_x",
         "rawType": "object",
         "type": "string"
        },
        {
         "name": "msku_x",
         "rawType": "object",
         "type": "string"
        },
        {
         "name": "sku_y",
         "rawType": "object",
         "type": "string"
        },
        {
         "name": "msku_y",
         "rawType": "object",
         "type": "string"
        },
        {
         "name": "msku",
         "rawType": "object",
         "type": "string"
        }
       ],
       "ref": "e4a1f237-b6d7-41a6-a516-6c22ac3ad8f2",
       "rows": [
        [
         "0",
         "DELIVERED",
         "116614722958250112_1",
         "2025-01-31",
         "Goa",
         "FUSKED Money Heist Music Box Hand Cranked Collectable Wooden Engraved Musical Box Bella ciao Theme Music Tune musicbox",
         "MONEY HEIST A-8_BROWN",
         "Free Size",
         "1",
         "169.0",
         "169.0",
         null,
         "MONEY HEIST A-8_BROWN",
         "CSTE_0199_MB_MHA8_Brown",
         "MONEY HEIST A-8_BROWN",
         "CSTE_0199_MB_MHA8_Brown",
         "UNKNOWN"
        ],
        [
         "1",
         "DELIVERED",
         "116620058427683329_1",
         "2025-01-31",
         "Karnataka",
         "la vieen rose brown music box Toys",
         "69UfqNAh",
         "Free Size",
         "1",
         "144.0",
         "144.0",
         null,
         "69UfqNAh",
         "CSTE_0045_MB_LavienRose_Brown",
         "69UfqNAh",
         "CSTE_0045_MB_LavienRose_Brown",
         "UNKNOWN"
        ],
        [
         "2",
         "DELIVERED",
         "116665551169940800_1",
         "2025-01-31",
         "Rajasthan",
         "Dragon Fly Sunglass cool Sunglass, Rimless Frameless Butterfly Sun glasses Unisex Vintage Eyewear(Pink)",
         "SG_ButterFly_LightgreenPink",
         "Free Size",
         "1",
         "299.0",
         "299.0",
         null,
         "SG_ButterFly_LightgreenPink",
         "CSTE_0148_SG_ButterFly_RedGreen",
         "SG_ButterFly_LightgreenPink",
         "CSTE_0148_SG_ButterFly_RedGreen",
         "UNKNOWN"
        ],
        [
         "3",
         "DELIVERED",
         "116665551169940800_1",
         "2025-01-31",
         "Rajasthan",
         "Dragon Fly Sunglass cool Sunglass, Rimless Frameless Butterfly Sun glasses Unisex Vintage Eyewear(Pink)",
         "SG_ButterFly_LightgreenPink",
         "Free Size",
         "1",
         "299.0",
         "299.0",
         null,
         "SG_ButterFly_LightgreenPink",
         "CSTE_0148_SG_ButterFly_RedGreen",
         "SG_ButterFly_LightgreenPink",
         "CSTE_0148_SG_ButterFly_RedGreen",
         "UNKNOWN"
        ]
       ],
       "shape": {
        "columns": 16,
        "rows": 4
       }
      },
      "text/html": [
       "<div>\n",
       "<style scoped>\n",
       "    .dataframe tbody tr th:only-of-type {\n",
       "        vertical-align: middle;\n",
       "    }\n",
       "\n",
       "    .dataframe tbody tr th {\n",
       "        vertical-align: top;\n",
       "    }\n",
       "\n",
       "    .dataframe thead th {\n",
       "        text-align: right;\n",
       "    }\n",
       "</style>\n",
       "<table border=\"1\" class=\"dataframe\">\n",
       "  <thead>\n",
       "    <tr style=\"text-align: right;\">\n",
       "      <th></th>\n",
       "      <th>Reason for Credit Entry</th>\n",
       "      <th>Sub Order No</th>\n",
       "      <th>Order Date</th>\n",
       "      <th>Customer State</th>\n",
       "      <th>Product Name</th>\n",
       "      <th>SKU</th>\n",
       "      <th>Size</th>\n",
       "      <th>Quantity</th>\n",
       "      <th>Supplier Listed Price (Incl. GST + Commission)</th>\n",
       "      <th>Supplier Discounted Price (Incl GST and Commision)</th>\n",
       "      <th>Packet Id</th>\n",
       "      <th>sku_x</th>\n",
       "      <th>msku_x</th>\n",
       "      <th>sku_y</th>\n",
       "      <th>msku_y</th>\n",
       "      <th>msku</th>\n",
       "    </tr>\n",
       "  </thead>\n",
       "  <tbody>\n",
       "    <tr>\n",
       "      <th>0</th>\n",
       "      <td>DELIVERED</td>\n",
       "      <td>116614722958250112_1</td>\n",
       "      <td>2025-01-31</td>\n",
       "      <td>Goa</td>\n",
       "      <td>FUSKED Money Heist Music Box Hand Cranked Coll...</td>\n",
       "      <td>MONEY HEIST A-8_BROWN</td>\n",
       "      <td>Free Size</td>\n",
       "      <td>1</td>\n",
       "      <td>169.0</td>\n",
       "      <td>169.0</td>\n",
       "      <td>NaN</td>\n",
       "      <td>MONEY HEIST A-8_BROWN</td>\n",
       "      <td>CSTE_0199_MB_MHA8_Brown</td>\n",
       "      <td>MONEY HEIST A-8_BROWN</td>\n",
       "      <td>CSTE_0199_MB_MHA8_Brown</td>\n",
       "      <td>UNKNOWN</td>\n",
       "    </tr>\n",
       "    <tr>\n",
       "      <th>1</th>\n",
       "      <td>DELIVERED</td>\n",
       "      <td>116620058427683329_1</td>\n",
       "      <td>2025-01-31</td>\n",
       "      <td>Karnataka</td>\n",
       "      <td>la vieen rose brown music box Toys</td>\n",
       "      <td>69UfqNAh</td>\n",
       "      <td>Free Size</td>\n",
       "      <td>1</td>\n",
       "      <td>144.0</td>\n",
       "      <td>144.0</td>\n",
       "      <td>NaN</td>\n",
       "      <td>69UfqNAh</td>\n",
       "      <td>CSTE_0045_MB_LavienRose_Brown</td>\n",
       "      <td>69UfqNAh</td>\n",
       "      <td>CSTE_0045_MB_LavienRose_Brown</td>\n",
       "      <td>UNKNOWN</td>\n",
       "    </tr>\n",
       "    <tr>\n",
       "      <th>2</th>\n",
       "      <td>DELIVERED</td>\n",
       "      <td>116665551169940800_1</td>\n",
       "      <td>2025-01-31</td>\n",
       "      <td>Rajasthan</td>\n",
       "      <td>Dragon Fly Sunglass cool Sunglass, Rimless Fra...</td>\n",
       "      <td>SG_ButterFly_LightgreenPink</td>\n",
       "      <td>Free Size</td>\n",
       "      <td>1</td>\n",
       "      <td>299.0</td>\n",
       "      <td>299.0</td>\n",
       "      <td>NaN</td>\n",
       "      <td>SG_ButterFly_LightgreenPink</td>\n",
       "      <td>CSTE_0148_SG_ButterFly_RedGreen</td>\n",
       "      <td>SG_ButterFly_LightgreenPink</td>\n",
       "      <td>CSTE_0148_SG_ButterFly_RedGreen</td>\n",
       "      <td>UNKNOWN</td>\n",
       "    </tr>\n",
       "    <tr>\n",
       "      <th>3</th>\n",
       "      <td>DELIVERED</td>\n",
       "      <td>116665551169940800_1</td>\n",
       "      <td>2025-01-31</td>\n",
       "      <td>Rajasthan</td>\n",
       "      <td>Dragon Fly Sunglass cool Sunglass, Rimless Fra...</td>\n",
       "      <td>SG_ButterFly_LightgreenPink</td>\n",
       "      <td>Free Size</td>\n",
       "      <td>1</td>\n",
       "      <td>299.0</td>\n",
       "      <td>299.0</td>\n",
       "      <td>NaN</td>\n",
       "      <td>SG_ButterFly_LightgreenPink</td>\n",
       "      <td>CSTE_0148_SG_ButterFly_RedGreen</td>\n",
       "      <td>SG_ButterFly_LightgreenPink</td>\n",
       "      <td>CSTE_0148_SG_ButterFly_RedGreen</td>\n",
       "      <td>UNKNOWN</td>\n",
       "    </tr>\n",
       "  </tbody>\n",
       "</table>\n",
       "</div>"
      ],
      "text/plain": [
       "  Reason for Credit Entry          Sub Order No  Order Date Customer State  \\\n",
       "0               DELIVERED  116614722958250112_1  2025-01-31            Goa   \n",
       "1               DELIVERED  116620058427683329_1  2025-01-31      Karnataka   \n",
       "2               DELIVERED  116665551169940800_1  2025-01-31      Rajasthan   \n",
       "3               DELIVERED  116665551169940800_1  2025-01-31      Rajasthan   \n",
       "\n",
       "                                        Product Name  \\\n",
       "0  FUSKED Money Heist Music Box Hand Cranked Coll...   \n",
       "1                 la vieen rose brown music box Toys   \n",
       "2  Dragon Fly Sunglass cool Sunglass, Rimless Fra...   \n",
       "3  Dragon Fly Sunglass cool Sunglass, Rimless Fra...   \n",
       "\n",
       "                           SKU       Size  Quantity  \\\n",
       "0        MONEY HEIST A-8_BROWN  Free Size         1   \n",
       "1                     69UfqNAh  Free Size         1   \n",
       "2  SG_ButterFly_LightgreenPink  Free Size         1   \n",
       "3  SG_ButterFly_LightgreenPink  Free Size         1   \n",
       "\n",
       "   Supplier Listed Price (Incl. GST + Commission)  \\\n",
       "0                                           169.0   \n",
       "1                                           144.0   \n",
       "2                                           299.0   \n",
       "3                                           299.0   \n",
       "\n",
       "   Supplier Discounted Price (Incl GST and Commision)  Packet Id  \\\n",
       "0                                              169.0         NaN   \n",
       "1                                              144.0         NaN   \n",
       "2                                              299.0         NaN   \n",
       "3                                              299.0         NaN   \n",
       "\n",
       "                         sku_x                           msku_x  \\\n",
       "0        MONEY HEIST A-8_BROWN          CSTE_0199_MB_MHA8_Brown   \n",
       "1                     69UfqNAh    CSTE_0045_MB_LavienRose_Brown   \n",
       "2  SG_ButterFly_LightgreenPink  CSTE_0148_SG_ButterFly_RedGreen   \n",
       "3  SG_ButterFly_LightgreenPink  CSTE_0148_SG_ButterFly_RedGreen   \n",
       "\n",
       "                         sku_y                           msku_y     msku  \n",
       "0        MONEY HEIST A-8_BROWN          CSTE_0199_MB_MHA8_Brown  UNKNOWN  \n",
       "1                     69UfqNAh    CSTE_0045_MB_LavienRose_Brown  UNKNOWN  \n",
       "2  SG_ButterFly_LightgreenPink  CSTE_0148_SG_ButterFly_RedGreen  UNKNOWN  \n",
       "3  SG_ButterFly_LightgreenPink  CSTE_0148_SG_ButterFly_RedGreen  UNKNOWN  "
      ]
     },
     "execution_count": 27,
     "metadata": {},
     "output_type": "execute_result"
    }
   ],
   "source": []
  },
  {
   "cell_type": "code",
   "execution_count": 31,
   "id": "10860851",
   "metadata": {},
   "outputs": [
    {
     "data": {
      "application/vnd.microsoft.datawrangler.viewer.v0+json": {
       "columns": [
        {
         "name": "index",
         "rawType": "int64",
         "type": "integer"
        },
        {
         "name": "Reason for Credit Entry",
         "rawType": "object",
         "type": "string"
        },
        {
         "name": "Sub Order No",
         "rawType": "object",
         "type": "string"
        },
        {
         "name": "Order Date",
         "rawType": "object",
         "type": "string"
        },
        {
         "name": "Customer State",
         "rawType": "object",
         "type": "string"
        },
        {
         "name": "Product Name",
         "rawType": "object",
         "type": "string"
        },
        {
         "name": "SKU",
         "rawType": "object",
         "type": "string"
        },
        {
         "name": "Size",
         "rawType": "object",
         "type": "string"
        },
        {
         "name": "Quantity",
         "rawType": "int64",
         "type": "integer"
        },
        {
         "name": "Supplier Listed Price (Incl. GST + Commission)",
         "rawType": "float64",
         "type": "float"
        },
        {
         "name": "Supplier Discounted Price (Incl GST and Commision)",
         "rawType": "float64",
         "type": "float"
        },
        {
         "name": "Packet Id",
         "rawType": "float64",
         "type": "float"
        },
        {
         "name": "msku",
         "rawType": "object",
         "type": "string"
        }
       ],
       "ref": "ac2dc927-1511-44b0-92bd-702f3354da1f",
       "rows": [
        [
         "0",
         "DELIVERED",
         "116614722958250112_1",
         "2025-01-31",
         "Goa",
         "FUSKED Money Heist Music Box Hand Cranked Collectable Wooden Engraved Musical Box Bella ciao Theme Music Tune musicbox",
         "MONEY HEIST A-8_BROWN",
         "Free Size",
         "1",
         "169.0",
         "169.0",
         null,
         "UNKNOWN"
        ],
        [
         "1",
         "DELIVERED",
         "116620058427683329_1",
         "2025-01-31",
         "Karnataka",
         "la vieen rose brown music box Toys",
         "69UfqNAh",
         "Free Size",
         "1",
         "144.0",
         "144.0",
         null,
         "UNKNOWN"
        ],
        [
         "2",
         "DELIVERED",
         "116665551169940800_1",
         "2025-01-31",
         "Rajasthan",
         "Dragon Fly Sunglass cool Sunglass, Rimless Frameless Butterfly Sun glasses Unisex Vintage Eyewear(Pink)",
         "SG_ButterFly_LightgreenPink",
         "Free Size",
         "1",
         "299.0",
         "299.0",
         null,
         "UNKNOWN"
        ],
        [
         "3",
         "DELIVERED",
         "116665551169940800_1",
         "2025-01-31",
         "Rajasthan",
         "Dragon Fly Sunglass cool Sunglass, Rimless Frameless Butterfly Sun glasses Unisex Vintage Eyewear(Pink)",
         "SG_ButterFly_LightgreenPink",
         "Free Size",
         "1",
         "299.0",
         "299.0",
         null,
         "UNKNOWN"
        ]
       ],
       "shape": {
        "columns": 12,
        "rows": 4
       }
      },
      "text/html": [
       "<div>\n",
       "<style scoped>\n",
       "    .dataframe tbody tr th:only-of-type {\n",
       "        vertical-align: middle;\n",
       "    }\n",
       "\n",
       "    .dataframe tbody tr th {\n",
       "        vertical-align: top;\n",
       "    }\n",
       "\n",
       "    .dataframe thead th {\n",
       "        text-align: right;\n",
       "    }\n",
       "</style>\n",
       "<table border=\"1\" class=\"dataframe\">\n",
       "  <thead>\n",
       "    <tr style=\"text-align: right;\">\n",
       "      <th></th>\n",
       "      <th>Reason for Credit Entry</th>\n",
       "      <th>Sub Order No</th>\n",
       "      <th>Order Date</th>\n",
       "      <th>Customer State</th>\n",
       "      <th>Product Name</th>\n",
       "      <th>SKU</th>\n",
       "      <th>Size</th>\n",
       "      <th>Quantity</th>\n",
       "      <th>Supplier Listed Price (Incl. GST + Commission)</th>\n",
       "      <th>Supplier Discounted Price (Incl GST and Commision)</th>\n",
       "      <th>Packet Id</th>\n",
       "      <th>msku</th>\n",
       "    </tr>\n",
       "  </thead>\n",
       "  <tbody>\n",
       "    <tr>\n",
       "      <th>0</th>\n",
       "      <td>DELIVERED</td>\n",
       "      <td>116614722958250112_1</td>\n",
       "      <td>2025-01-31</td>\n",
       "      <td>Goa</td>\n",
       "      <td>FUSKED Money Heist Music Box Hand Cranked Coll...</td>\n",
       "      <td>MONEY HEIST A-8_BROWN</td>\n",
       "      <td>Free Size</td>\n",
       "      <td>1</td>\n",
       "      <td>169.0</td>\n",
       "      <td>169.0</td>\n",
       "      <td>NaN</td>\n",
       "      <td>UNKNOWN</td>\n",
       "    </tr>\n",
       "    <tr>\n",
       "      <th>1</th>\n",
       "      <td>DELIVERED</td>\n",
       "      <td>116620058427683329_1</td>\n",
       "      <td>2025-01-31</td>\n",
       "      <td>Karnataka</td>\n",
       "      <td>la vieen rose brown music box Toys</td>\n",
       "      <td>69UfqNAh</td>\n",
       "      <td>Free Size</td>\n",
       "      <td>1</td>\n",
       "      <td>144.0</td>\n",
       "      <td>144.0</td>\n",
       "      <td>NaN</td>\n",
       "      <td>UNKNOWN</td>\n",
       "    </tr>\n",
       "    <tr>\n",
       "      <th>2</th>\n",
       "      <td>DELIVERED</td>\n",
       "      <td>116665551169940800_1</td>\n",
       "      <td>2025-01-31</td>\n",
       "      <td>Rajasthan</td>\n",
       "      <td>Dragon Fly Sunglass cool Sunglass, Rimless Fra...</td>\n",
       "      <td>SG_ButterFly_LightgreenPink</td>\n",
       "      <td>Free Size</td>\n",
       "      <td>1</td>\n",
       "      <td>299.0</td>\n",
       "      <td>299.0</td>\n",
       "      <td>NaN</td>\n",
       "      <td>UNKNOWN</td>\n",
       "    </tr>\n",
       "    <tr>\n",
       "      <th>3</th>\n",
       "      <td>DELIVERED</td>\n",
       "      <td>116665551169940800_1</td>\n",
       "      <td>2025-01-31</td>\n",
       "      <td>Rajasthan</td>\n",
       "      <td>Dragon Fly Sunglass cool Sunglass, Rimless Fra...</td>\n",
       "      <td>SG_ButterFly_LightgreenPink</td>\n",
       "      <td>Free Size</td>\n",
       "      <td>1</td>\n",
       "      <td>299.0</td>\n",
       "      <td>299.0</td>\n",
       "      <td>NaN</td>\n",
       "      <td>UNKNOWN</td>\n",
       "    </tr>\n",
       "  </tbody>\n",
       "</table>\n",
       "</div>"
      ],
      "text/plain": [
       "  Reason for Credit Entry          Sub Order No  Order Date Customer State  \\\n",
       "0               DELIVERED  116614722958250112_1  2025-01-31            Goa   \n",
       "1               DELIVERED  116620058427683329_1  2025-01-31      Karnataka   \n",
       "2               DELIVERED  116665551169940800_1  2025-01-31      Rajasthan   \n",
       "3               DELIVERED  116665551169940800_1  2025-01-31      Rajasthan   \n",
       "\n",
       "                                        Product Name  \\\n",
       "0  FUSKED Money Heist Music Box Hand Cranked Coll...   \n",
       "1                 la vieen rose brown music box Toys   \n",
       "2  Dragon Fly Sunglass cool Sunglass, Rimless Fra...   \n",
       "3  Dragon Fly Sunglass cool Sunglass, Rimless Fra...   \n",
       "\n",
       "                           SKU       Size  Quantity  \\\n",
       "0        MONEY HEIST A-8_BROWN  Free Size         1   \n",
       "1                     69UfqNAh  Free Size         1   \n",
       "2  SG_ButterFly_LightgreenPink  Free Size         1   \n",
       "3  SG_ButterFly_LightgreenPink  Free Size         1   \n",
       "\n",
       "   Supplier Listed Price (Incl. GST + Commission)  \\\n",
       "0                                           169.0   \n",
       "1                                           144.0   \n",
       "2                                           299.0   \n",
       "3                                           299.0   \n",
       "\n",
       "   Supplier Discounted Price (Incl GST and Commision)  Packet Id     msku  \n",
       "0                                              169.0         NaN  UNKNOWN  \n",
       "1                                              144.0         NaN  UNKNOWN  \n",
       "2                                              299.0         NaN  UNKNOWN  \n",
       "3                                              299.0         NaN  UNKNOWN  "
      ]
     },
     "execution_count": 31,
     "metadata": {},
     "output_type": "execute_result"
    }
   ],
   "source": [
    "data_final_clean = pd.read_csv('final_cleaned_messho_sales.csv')\n",
    "data_final_clean.head(4)"
   ]
  },
  {
   "cell_type": "code",
   "execution_count": 32,
   "id": "2c6d2c35",
   "metadata": {},
   "outputs": [
    {
     "data": {
      "application/vnd.microsoft.datawrangler.viewer.v0+json": {
       "columns": [
        {
         "name": "index",
         "rawType": "object",
         "type": "string"
        },
        {
         "name": "0",
         "rawType": "int64",
         "type": "integer"
        }
       ],
       "ref": "4e830923-9e06-4cf3-be08-b4951f3384a9",
       "rows": [
        [
         "Reason for Credit Entry",
         "0"
        ],
        [
         "Sub Order No",
         "0"
        ],
        [
         "Order Date",
         "0"
        ],
        [
         "Customer State",
         "0"
        ],
        [
         "Product Name",
         "0"
        ],
        [
         "SKU",
         "0"
        ],
        [
         "Size",
         "0"
        ],
        [
         "Quantity",
         "0"
        ],
        [
         "Supplier Listed Price (Incl. GST + Commission)",
         "0"
        ],
        [
         "Supplier Discounted Price (Incl GST and Commision)",
         "0"
        ],
        [
         "Packet Id",
         "132"
        ],
        [
         "msku",
         "0"
        ]
       ],
       "shape": {
        "columns": 1,
        "rows": 12
       }
      },
      "text/plain": [
       "Reason for Credit Entry                                 0\n",
       "Sub Order No                                            0\n",
       "Order Date                                              0\n",
       "Customer State                                          0\n",
       "Product Name                                            0\n",
       "SKU                                                     0\n",
       "Size                                                    0\n",
       "Quantity                                                0\n",
       "Supplier Listed Price (Incl. GST + Commission)          0\n",
       "Supplier Discounted Price (Incl GST and Commision)      0\n",
       "Packet Id                                             132\n",
       "msku                                                    0\n",
       "dtype: int64"
      ]
     },
     "execution_count": 32,
     "metadata": {},
     "output_type": "execute_result"
    }
   ],
   "source": [
    "data_final_clean.isnull().sum()"
   ]
  },
  {
   "cell_type": "code",
   "execution_count": 36,
   "id": "ba52a021",
   "metadata": {},
   "outputs": [
    {
     "data": {
      "text/plain": [
       "(132, 12)"
      ]
     },
     "execution_count": 36,
     "metadata": {},
     "output_type": "execute_result"
    }
   ],
   "source": [
    "data_final_clean.shape"
   ]
  },
  {
   "cell_type": "code",
   "execution_count": 38,
   "id": "05cd4352",
   "metadata": {},
   "outputs": [
    {
     "data": {
      "text/plain": [
       "Index(['Date', 'FNSKU', 'ASIN', 'MSKU', 'Title', 'Event Type', 'Reference ID',\n",
       "       'Quantity', 'Fulfillment Center', 'Disposition', 'Reason', 'Country',\n",
       "       'Reconciled Quantity', 'Unreconciled Quantity', 'Date and Time'],\n",
       "      dtype='object')"
      ]
     },
     "execution_count": 38,
     "metadata": {},
     "output_type": "execute_result"
    }
   ],
   "source": [
    "amazon_sales = pd.read_csv('data/amazon_sales.csv')\n",
    "amazon_sales.columns"
   ]
  },
  {
   "cell_type": "code",
   "execution_count": null,
   "id": "3d0c2025",
   "metadata": {},
   "outputs": [],
   "source": [
    "amazon_sales = amazon_sales.merge(mapping_clean, left_on='FNSKU', right_on='sku', how='left')\n",
    "\n",
    "amazon_sales['msku'] = amazon_sales['msku'].fillna('UNKNOWN')\n",
    "amazon_sales.to_csv('cleaned_amazon_sales.csv', index=False)"
   ]
  },
  {
   "cell_type": "code",
   "execution_count": 41,
   "id": "257473da",
   "metadata": {},
   "outputs": [
    {
     "data": {
      "text/plain": [
       "Index(['Date', 'FNSKU', 'ASIN', 'MSKU', 'Title', 'Event Type', 'Reference ID',\n",
       "       'Quantity', 'Fulfillment Center', 'Disposition', 'Reason', 'Country',\n",
       "       'Reconciled Quantity', 'Unreconciled Quantity', 'Date and Time', 'sku',\n",
       "       'msku'],\n",
       "      dtype='object')"
      ]
     },
     "execution_count": 41,
     "metadata": {},
     "output_type": "execute_result"
    }
   ],
   "source": [
    "clean_amazon_sales = pd.read_csv('cleaned_amazon_sales.csv')\n",
    "clean_amazon_sales.columns"
   ]
  },
  {
   "cell_type": "code",
   "execution_count": null,
   "id": "5b96c7cf",
   "metadata": {},
   "outputs": [],
   "source": [
    "final_cols = [\n",
    "    'Date', 'FNSKU', 'ASIN', 'Title', 'Event Type', 'Reference ID',\n",
    "    'Quantity', 'Fulfillment Center', 'Disposition', 'Reason', 'Country',\n",
    "    'Reconciled Quantity', 'Unreconciled Quantity', 'Date and Time', 'msku'\n",
    "]\n",
    "\n",
    "\n",
    "data_final = clean_amazon_sales[final_cols]\n",
    "\n",
    "# Save final cleaned file\n",
    "data_final.to_csv('final_cleaned_amazon_sales.csv', index=False)"
   ]
  },
  {
   "cell_type": "code",
   "execution_count": 45,
   "id": "104664c3",
   "metadata": {},
   "outputs": [
    {
     "data": {
      "text/plain": [
       "Index(['Date', 'FNSKU', 'ASIN', 'Title', 'Event Type', 'Reference ID',\n",
       "       'Quantity', 'Fulfillment Center', 'Disposition', 'Reason', 'Country',\n",
       "       'Reconciled Quantity', 'Unreconciled Quantity', 'Date and Time',\n",
       "       'msku'],\n",
       "      dtype='object')"
      ]
     },
     "execution_count": 45,
     "metadata": {},
     "output_type": "execute_result"
    }
   ],
   "source": [
    "final_amazon_clean = pd.read_csv('final_cleaned_amazon_sales.csv')\n",
    "final_amazon_clean.columns"
   ]
  }
 ],
 "metadata": {
  "kernelspec": {
   "display_name": "Python 3",
   "language": "python",
   "name": "python3"
  },
  "language_info": {
   "codemirror_mode": {
    "name": "ipython",
    "version": 3
   },
   "file_extension": ".py",
   "mimetype": "text/x-python",
   "name": "python",
   "nbconvert_exporter": "python",
   "pygments_lexer": "ipython3",
   "version": "3.10.12"
  }
 },
 "nbformat": 4,
 "nbformat_minor": 5
}
